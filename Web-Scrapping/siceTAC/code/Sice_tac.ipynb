{
 "cells": [
  {
   "cell_type": "code",
   "execution_count": 4,
   "metadata": {},
   "outputs": [
    {
     "name": "stdout",
     "output_type": "stream",
     "text": [
      "Defaulting to user installation because normal site-packages is not writeableNote: you may need to restart the kernel to use updated packages.\n",
      "\n",
      "Collecting webdriver-manager\n",
      "  Downloading webdriver_manager-3.8.5-py2.py3-none-any.whl (27 kB)\n",
      "Requirement already satisfied: requests in c:\\programdata\\anaconda3\\lib\\site-packages (from webdriver-manager) (2.28.1)\n",
      "Requirement already satisfied: tqdm in c:\\programdata\\anaconda3\\lib\\site-packages (from webdriver-manager) (4.64.1)\n",
      "Requirement already satisfied: packaging in c:\\programdata\\anaconda3\\lib\\site-packages (from webdriver-manager) (21.3)\n",
      "Collecting python-dotenv\n",
      "  Downloading python_dotenv-1.0.0-py3-none-any.whl (19 kB)\n",
      "Requirement already satisfied: pyparsing!=3.0.5,>=2.0.2 in c:\\programdata\\anaconda3\\lib\\site-packages (from packaging->webdriver-manager) (3.0.9)\n",
      "Requirement already satisfied: urllib3<1.27,>=1.21.1 in c:\\programdata\\anaconda3\\lib\\site-packages (from requests->webdriver-manager) (1.26.11)\n",
      "Requirement already satisfied: certifi>=2017.4.17 in c:\\programdata\\anaconda3\\lib\\site-packages (from requests->webdriver-manager) (2022.9.14)\n",
      "Requirement already satisfied: charset-normalizer<3,>=2 in c:\\programdata\\anaconda3\\lib\\site-packages (from requests->webdriver-manager) (2.0.4)\n",
      "Requirement already satisfied: idna<4,>=2.5 in c:\\programdata\\anaconda3\\lib\\site-packages (from requests->webdriver-manager) (3.3)\n",
      "Requirement already satisfied: colorama in c:\\programdata\\anaconda3\\lib\\site-packages (from tqdm->webdriver-manager) (0.4.5)\n",
      "Installing collected packages: python-dotenv, webdriver-manager\n",
      "Successfully installed python-dotenv-1.0.0 webdriver-manager-3.8.5\n"
     ]
    },
    {
     "name": "stderr",
     "output_type": "stream",
     "text": [
      "  WARNING: The script dotenv.exe is installed in 'C:\\Users\\a.rengifoj\\AppData\\Roaming\\Python\\Python39\\Scripts' which is not on PATH.\n",
      "  Consider adding this directory to PATH or, if you prefer to suppress this warning, use --no-warn-script-location.\n"
     ]
    }
   ],
   "source": [
    "pip install webdriver-manager"
   ]
  },
  {
   "cell_type": "code",
   "execution_count": 1,
   "metadata": {},
   "outputs": [],
   "source": [
    "#### importing packages\n",
    "\n",
    "import pandas as pd\n",
    "import os\n",
    "from selenium import webdriver\n",
    "import time\n",
    "from webdriver_manager.chrome import ChromeDriverManager\n",
    "from selenium.webdriver.support.ui import Select\n",
    "from selenium.webdriver.common.by import By   ### para emplear los .find_element(By.)\n",
    "from selenium.webdriver.common.alert import Alert\n",
    "from bs4 import BeautifulSoup as bs\n",
    "\n",
    "from selenium.webdriver.chrome.service import Service   ### para instalar el drive\n",
    "from selenium.webdriver.support.ui import WebDriverWait    ### para las alertas\n",
    "from selenium.common.exceptions import TimeoutException    ### para las alertas\n",
    "from selenium.webdriver.support import expected_conditions as EC  ### para las alertas\n",
    "import re"
   ]
  },
  {
   "cell_type": "code",
   "execution_count": 16,
   "metadata": {},
   "outputs": [],
   "source": [
    "##### importing the web to chromedriver  \n",
    "os.chdir(\"..\\\\output\")\n",
    "driver = webdriver.Chrome(service=Service(ChromeDriverManager().install()))\n",
    "#driver = webdriver.Chrome(ChromeDriverManager().install())\n",
    "enlaces = \"https://plc.mintransporte.gov.co/Runtime/empresa/ctl/SiceTAC/mid/417\"\n",
    "driver.get(enlaces)\n",
    "driver.maximize_window()\n",
    "body = driver.execute_script(\"return document.body\")\n",
    "source = body.get_attribute('innerHTML')\n",
    "time.sleep(1)"
   ]
  },
  {
   "cell_type": "code",
   "execution_count": 83,
   "metadata": {},
   "outputs": [],
   "source": [
    "#periodo_box= driver.find_element(By.XPATH,\"//input[@name='dnn$ctr417$SiceTAC$periodoJ']\")\n",
    "#periodo_box.click()\n",
    "periodo_year= driver.find_elements(By.XPATH,\"//select[@class='ui-datepicker-year']/option\")\n",
    "periodo_year = [d.text for d in periodo_year]\n"
   ]
  },
  {
   "cell_type": "code",
   "execution_count": 84,
   "metadata": {},
   "outputs": [],
   "source": [
    "### periodos disponibles \n",
    "## para hcer el loop por periodo \n",
    "year=[]\n",
    "month=[]\n",
    "\n",
    "for y in periodo_year: \n",
    "    selectyear= Select(driver.find_element(By.XPATH,\"//select[@class='ui-datepicker-year']\"))\n",
    "    selectyear.select_by_visible_text(y)\n",
    "    periodo_month= driver.find_elements(By.XPATH,\"//select[@class='ui-datepicker-month']/option\")\n",
    "    periodo_month = [d.text for d in periodo_month]\n",
    "    for m in periodo_month:\n",
    "        year.append(y)\n",
    "        month.append(m)"
   ]
  },
  {
   "cell_type": "code",
   "execution_count": 49,
   "metadata": {},
   "outputs": [],
   "source": [
    "periodos = pd.DataFrame()\n",
    "periodos[\"year\"] = year\n",
    "periodos[\"month\"] = month"
   ]
  },
  {
   "cell_type": "code",
   "execution_count": 51,
   "metadata": {},
   "outputs": [],
   "source": [
    "periodos.to_excel(\"periodos.xlsx\", index=False)"
   ]
  },
  {
   "cell_type": "code",
   "execution_count": null,
   "metadata": {},
   "outputs": [],
   "source": [
    "#####  Código para obtener las conbinaciones de configuración, tipo de carga y tipo de unidad permitidas. \n",
    "\n",
    "config = driver.find_elements(By.XPATH,\"//select[@name='dnn$ctr417$SiceTAC$CONFIGURACION']/option\")\n",
    "config = [d.text for d in config]\n",
    "config.pop(0) \n",
    "carga = driver.find_elements(By.XPATH,\"//select[@name='dnn$ctr417$SiceTAC$TIPOCARGA']/option\")\n",
    "carga = [d.text for d in carga]\n",
    "carga.pop(0) \n",
    "tipo = driver.find_elements(By.XPATH,\"//select[@name='dnn$ctr417$SiceTAC$UNIDADTRANSPORTE']/option\")\n",
    "tipo = [d.text for d in tipo]\n",
    "tipo.pop(0)\n",
    "origen = driver.find_elements(By.XPATH,\"//select[@name='dnn$ctr417$SiceTAC$ORIGEN']/option\")\n",
    "origen = [d.text for d in origen]\n",
    "origen.pop(0) \n",
    "destino = driver.find_elements(By.XPATH,\"//select[@name='dnn$ctr417$SiceTAC$DESTINO']/option\")\n",
    "destino = [d.text for d in destino]\n",
    "destino.pop(0)\n",
    "\n",
    " \n",
    "h_cargue = driver.find_element(By.XPATH,\"//input[@name='dnn$ctr417$SiceTAC$HORASCARGUE']\")\n",
    "h_cargue.clear()\n",
    "h_cargue.send_keys(\"1\")\n",
    "h_descargue = driver.find_element(By.XPATH,\"//input[@name='dnn$ctr417$SiceTAC$HORASDESCARGUE']\") \n",
    "h_descargue.clear()\n",
    "h_descargue.send_keys(\"1\")\n",
    "h_e_cargue = driver.find_element(By.XPATH,\"//input[@name = 'dnn$ctr417$SiceTAC$HORASESPERACARGUE']\")\n",
    "h_e_cargue.clear()\n",
    "h_e_cargue.send_keys(\"1\")\n",
    "h_e_descargue = driver.find_element(By.XPATH,\"//input[@name='dnn$ctr417$SiceTAC$HORASESPERADESCARGUE']\")\n",
    "h_e_descargue.clear()\n",
    "h_e_descargue.send_keys(\"1\")\n",
    "calculo_text = driver.find_element(By.XPATH,\"//span[@id='dnn_ctr417_SiceTAC_Cat']\").text\n",
    "calculo_text=calculo_text.split()\n",
    "calculo_text= int(calculo_text[2])+int(calculo_text[4])\n",
    "calculo = driver.find_element(By.XPATH,\"//input[@name='dnn$ctr417$SiceTAC$Resultado']\")\n",
    "calculo.send_keys(calculo_text)\n",
    "calcular = driver.find_element(By.XPATH,\"//a[@id='dnn_ctr417_SiceTAC_btCalcular']\")\n",
    "calcular.click()\n",
    "alert = driver.switch_to.alert\n",
    "alert.text\n",
    "alert.accept()\n",
    "\n",
    "# #Combinaciones posibles\n",
    "#c_oper = driver.find_element(By.XPATH,\"//td[@colspan='6']\").text \n",
    "#c_oper == \"No hay conceptos de costo para mostrar\"\n",
    "\n",
    "config_v = []\n",
    "tipo_carga = []\n",
    "tipo_unidad = []\n",
    "for co in config:\n",
    "    for ca in carga:\n",
    "        for ti in tipo:\n",
    "            calculo = driver.find_element(By.XPATH,\"//input[@name='dnn$ctr417$SiceTAC$Resultado']\")\n",
    "            calculo.clear()\n",
    "            config_op = Select(driver.find_element(By.XPATH,\"//select[@name='dnn$ctr417$SiceTAC$CONFIGURACION']\"))\n",
    "            config_op.select_by_visible_text(co)\n",
    "            carga_op = Select(driver.find_element(By.XPATH,\"//select[@name='dnn$ctr417$SiceTAC$TIPOCARGA']\"))\n",
    "            carga_op.select_by_visible_text(ca)\n",
    "            tipo_op = Select(driver.find_element(By.XPATH,\"//select[@name='dnn$ctr417$SiceTAC$UNIDADTRANSPORTE']\"))\n",
    "            tipo_op.select_by_visible_text(ti)\n",
    "            time.sleep(2)\n",
    "            org = Select(driver.find_element(By.XPATH,\"//select[@name='dnn$ctr417$SiceTAC$ORIGEN']\"))\n",
    "            org.select_by_visible_text(origen[17])\n",
    "            org = Select(driver.find_element(By.XPATH,\"//select[@name='dnn$ctr417$SiceTAC$DESTINO']\"))\n",
    "            org.select_by_visible_text(destino[8])\n",
    "            calculo_text = driver.find_element(By.XPATH,\"//span[@id='dnn_ctr417_SiceTAC_Cat']\").text\n",
    "            calculo_text=calculo_text.split()\n",
    "            calculo_text= int(calculo_text[2])+int(calculo_text[4])\n",
    "            calculo = driver.find_element(By.XPATH,\"//input[@name='dnn$ctr417$SiceTAC$Resultado']\")\n",
    "            calculo.send_keys(calculo_text)\n",
    "            calcular = driver.find_element(By.XPATH,\"//a[@id='dnn_ctr417_SiceTAC_btCalcular']\")\n",
    "            time.sleep(2)\n",
    "            calcular.click()\n",
    "            time.sleep(2)\n",
    "            try:    \n",
    "                WebDriverWait(driver, 3).until(EC.alert_is_present(),\n",
    "                                   'Timed out waiting for PA creation ' +\n",
    "                                   'confirmation popup to appear.')\n",
    "                alert = driver.switch_to.alert\n",
    "                alert.accept()\n",
    "                print(\"alert accepted\")\n",
    "            except TimeoutException:\n",
    "                print(\"no alert\")\n",
    "            try:\n",
    "                c_oper = driver.find_element(By.XPATH,\"//td[@colspan='6']\").text \n",
    "            except:\n",
    "                c_oper = \"\"\n",
    "            if c_oper != \"No hay conceptos de costo para mostrar\":\n",
    "               config_v.append(co) \n",
    "               tipo_carga.append(ca)\n",
    "               tipo_unidad.append(ti)\n",
    "\n",
    "               \n",
    "df = pd.DataFrame()\n",
    "df[\"config_v\"] = config_v\n",
    "df[\"tipo_carga\"] = tipo_carga\n",
    "df[\"tipo_unidad\"] = tipo_unidad\n",
    "#guardar info\n",
    "\n",
    "df.to_excel(\"combinaciones.xlsx\", index=False)"
   ]
  },
  {
   "cell_type": "code",
   "execution_count": 3,
   "metadata": {},
   "outputs": [],
   "source": [
    "periodos= pd.read_excel(\"periodos.xlsx\")\n",
    "OD = pd.read_excel(\"OD.xlsx\")\n",
    "combinaciones= pd.read_excel('combinaciones.xlsx')"
   ]
  },
  {
   "cell_type": "code",
   "execution_count": 4,
   "metadata": {},
   "outputs": [],
   "source": [
    "### Panel costos operativos resumen\n",
    "cost_panel_resumen = pd.DataFrame(columns = ['origen', \n",
    "'destino',\n",
    "'config_v',\n",
    "'tipo_carga',\n",
    "'tipo_unidad',\n",
    "'month',\n",
    "'year', \n",
    "'Tonelada x KM Movilzación',\n",
    " 'Costo Tonelada Movilización',\n",
    " 'Costo Movilización Carga',\n",
    " 'Costo Hora Adicional',\n",
    " 'Horas de Espera',\n",
    " 'Costo Tiempos de Espera',\n",
    " 'Tonelada x KM del Viaje',\n",
    " 'Costo Tonelada del Viaje',\n",
    " 'Costo Total del Viaje',\n",
    " 'Costo x KM Movilización',\n",
    " 'Costo x KM del Viaje'])\n",
    "\n"
   ]
  },
  {
   "cell_type": "code",
   "execution_count": 19,
   "metadata": {},
   "outputs": [
    {
     "name": "stdout",
     "output_type": "stream",
     "text": [
      "alert accepted\n"
     ]
    },
    {
     "ename": "ElementNotInteractableException",
     "evalue": "Message: element not interactable: Element is not currently visible and may not be manipulated\n  (Session info: chrome=111.0.5563.111)\nStacktrace:\nBacktrace:\n\t(No symbol) [0x004EDCE3]\n\t(No symbol) [0x004839D1]\n\t(No symbol) [0x00394DA8]\n\t(No symbol) [0x003976FB]\n\t(No symbol) [0x003975D0]\n\t(No symbol) [0x00397850]\n\t(No symbol) [0x003C3173]\n\t(No symbol) [0x003B90D4]\n\t(No symbol) [0x003DAECC]\n\t(No symbol) [0x003B8726]\n\t(No symbol) [0x003DB224]\n\t(No symbol) [0x003ED57C]\n\t(No symbol) [0x003DACC6]\n\t(No symbol) [0x003B6F68]\n\t(No symbol) [0x003B80CD]\n\tGetHandleVerifier [0x00763832+2506274]\n\tGetHandleVerifier [0x00799794+2727300]\n\tGetHandleVerifier [0x0079E36C+2746716]\n\tGetHandleVerifier [0x00596690+617600]\n\t(No symbol) [0x0048C712]\n\t(No symbol) [0x00491FF8]\n\t(No symbol) [0x004920DB]\n\t(No symbol) [0x0049C63B]\n\tBaseThreadInitThunk [0x76AC00F9+25]\n\tRtlGetAppContainerNamedObjectPath [0x77C67BBE+286]\n\tRtlGetAppContainerNamedObjectPath [0x77C67B8E+238]\n",
     "output_type": "error",
     "traceback": [
      "\u001b[1;31m---------------------------------------------------------------------------\u001b[0m",
      "\u001b[1;31mElementNotInteractableException\u001b[0m           Traceback (most recent call last)",
      "\u001b[1;32m~\\AppData\\Local\\Temp\\ipykernel_3140\\1215249915.py\u001b[0m in \u001b[0;36m<module>\u001b[1;34m\u001b[0m\n\u001b[0;32m     26\u001b[0m                     )\n\u001b[0;32m     27\u001b[0m                     \u001b[0mselectyear\u001b[0m\u001b[1;33m=\u001b[0m \u001b[0mSelect\u001b[0m\u001b[1;33m(\u001b[0m\u001b[0mdriver\u001b[0m\u001b[1;33m.\u001b[0m\u001b[0mfind_element\u001b[0m\u001b[1;33m(\u001b[0m\u001b[0mBy\u001b[0m\u001b[1;33m.\u001b[0m\u001b[0mXPATH\u001b[0m\u001b[1;33m,\u001b[0m\u001b[1;34m\"//select[@class='ui-datepicker-year']\"\u001b[0m\u001b[1;33m)\u001b[0m\u001b[1;33m)\u001b[0m\u001b[1;33m\u001b[0m\u001b[1;33m\u001b[0m\u001b[0m\n\u001b[1;32m---> 28\u001b[1;33m                     \u001b[0mselectyear\u001b[0m\u001b[1;33m.\u001b[0m\u001b[0mselect_by_visible_text\u001b[0m\u001b[1;33m(\u001b[0m\u001b[0mstr\u001b[0m\u001b[1;33m(\u001b[0m\u001b[0mperiodos\u001b[0m\u001b[1;33m.\u001b[0m\u001b[0mloc\u001b[0m\u001b[1;33m[\u001b[0m\u001b[0mp\u001b[0m\u001b[1;33m,\u001b[0m\u001b[1;34m\"year\"\u001b[0m\u001b[1;33m]\u001b[0m\u001b[1;33m)\u001b[0m\u001b[1;33m)\u001b[0m\u001b[1;33m\u001b[0m\u001b[1;33m\u001b[0m\u001b[0m\n\u001b[0m\u001b[0;32m     29\u001b[0m                     \u001b[0mtime\u001b[0m\u001b[1;33m.\u001b[0m\u001b[0msleep\u001b[0m\u001b[1;33m(\u001b[0m\u001b[1;36m1.5\u001b[0m\u001b[1;33m)\u001b[0m\u001b[1;33m\u001b[0m\u001b[1;33m\u001b[0m\u001b[0m\n\u001b[0;32m     30\u001b[0m                     \u001b[0mselectmonth\u001b[0m\u001b[1;33m=\u001b[0m \u001b[0mSelect\u001b[0m\u001b[1;33m(\u001b[0m\u001b[0mdriver\u001b[0m\u001b[1;33m.\u001b[0m\u001b[0mfind_element\u001b[0m\u001b[1;33m(\u001b[0m\u001b[0mBy\u001b[0m\u001b[1;33m.\u001b[0m\u001b[0mXPATH\u001b[0m\u001b[1;33m,\u001b[0m\u001b[1;34m\"//div[@class='ui-datepicker-header ui-widget-header ui-helper-clearfix ui-corner-all']//select[@class='ui-datepicker-month']\"\u001b[0m\u001b[1;33m)\u001b[0m\u001b[1;33m)\u001b[0m\u001b[1;33m\u001b[0m\u001b[1;33m\u001b[0m\u001b[0m\n",
      "\u001b[1;32m~\\AppData\\Roaming\\Python\\Python39\\site-packages\\selenium\\webdriver\\support\\select.py\u001b[0m in \u001b[0;36mselect_by_visible_text\u001b[1;34m(self, text)\u001b[0m\n\u001b[0;32m    112\u001b[0m         \u001b[0mmatched\u001b[0m \u001b[1;33m=\u001b[0m \u001b[1;32mFalse\u001b[0m\u001b[1;33m\u001b[0m\u001b[1;33m\u001b[0m\u001b[0m\n\u001b[0;32m    113\u001b[0m         \u001b[1;32mfor\u001b[0m \u001b[0mopt\u001b[0m \u001b[1;32min\u001b[0m \u001b[0mopts\u001b[0m\u001b[1;33m:\u001b[0m\u001b[1;33m\u001b[0m\u001b[1;33m\u001b[0m\u001b[0m\n\u001b[1;32m--> 114\u001b[1;33m             \u001b[0mself\u001b[0m\u001b[1;33m.\u001b[0m\u001b[0m_set_selected\u001b[0m\u001b[1;33m(\u001b[0m\u001b[0mopt\u001b[0m\u001b[1;33m)\u001b[0m\u001b[1;33m\u001b[0m\u001b[1;33m\u001b[0m\u001b[0m\n\u001b[0m\u001b[0;32m    115\u001b[0m             \u001b[1;32mif\u001b[0m \u001b[1;32mnot\u001b[0m \u001b[0mself\u001b[0m\u001b[1;33m.\u001b[0m\u001b[0mis_multiple\u001b[0m\u001b[1;33m:\u001b[0m\u001b[1;33m\u001b[0m\u001b[1;33m\u001b[0m\u001b[0m\n\u001b[0;32m    116\u001b[0m                 \u001b[1;32mreturn\u001b[0m\u001b[1;33m\u001b[0m\u001b[1;33m\u001b[0m\u001b[0m\n",
      "\u001b[1;32m~\\AppData\\Roaming\\Python\\Python39\\site-packages\\selenium\\webdriver\\support\\select.py\u001b[0m in \u001b[0;36m_set_selected\u001b[1;34m(self, option)\u001b[0m\n\u001b[0;32m    209\u001b[0m             \u001b[1;32mif\u001b[0m \u001b[1;32mnot\u001b[0m \u001b[0moption\u001b[0m\u001b[1;33m.\u001b[0m\u001b[0mis_enabled\u001b[0m\u001b[1;33m(\u001b[0m\u001b[1;33m)\u001b[0m\u001b[1;33m:\u001b[0m\u001b[1;33m\u001b[0m\u001b[1;33m\u001b[0m\u001b[0m\n\u001b[0;32m    210\u001b[0m                 \u001b[1;32mraise\u001b[0m \u001b[0mNotImplementedError\u001b[0m\u001b[1;33m(\u001b[0m\u001b[1;34m\"You may not select a disabled option\"\u001b[0m\u001b[1;33m)\u001b[0m\u001b[1;33m\u001b[0m\u001b[1;33m\u001b[0m\u001b[0m\n\u001b[1;32m--> 211\u001b[1;33m             \u001b[0moption\u001b[0m\u001b[1;33m.\u001b[0m\u001b[0mclick\u001b[0m\u001b[1;33m(\u001b[0m\u001b[1;33m)\u001b[0m\u001b[1;33m\u001b[0m\u001b[1;33m\u001b[0m\u001b[0m\n\u001b[0m\u001b[0;32m    212\u001b[0m \u001b[1;33m\u001b[0m\u001b[0m\n\u001b[0;32m    213\u001b[0m     \u001b[1;32mdef\u001b[0m \u001b[0m_unset_selected\u001b[0m\u001b[1;33m(\u001b[0m\u001b[0mself\u001b[0m\u001b[1;33m,\u001b[0m \u001b[0moption\u001b[0m\u001b[1;33m)\u001b[0m \u001b[1;33m->\u001b[0m \u001b[1;32mNone\u001b[0m\u001b[1;33m:\u001b[0m\u001b[1;33m\u001b[0m\u001b[1;33m\u001b[0m\u001b[0m\n",
      "\u001b[1;32m~\\AppData\\Roaming\\Python\\Python39\\site-packages\\selenium\\webdriver\\remote\\webelement.py\u001b[0m in \u001b[0;36mclick\u001b[1;34m(self)\u001b[0m\n\u001b[0;32m     91\u001b[0m     \u001b[1;32mdef\u001b[0m \u001b[0mclick\u001b[0m\u001b[1;33m(\u001b[0m\u001b[0mself\u001b[0m\u001b[1;33m)\u001b[0m \u001b[1;33m->\u001b[0m \u001b[1;32mNone\u001b[0m\u001b[1;33m:\u001b[0m\u001b[1;33m\u001b[0m\u001b[1;33m\u001b[0m\u001b[0m\n\u001b[0;32m     92\u001b[0m         \u001b[1;34m\"\"\"Clicks the element.\"\"\"\u001b[0m\u001b[1;33m\u001b[0m\u001b[1;33m\u001b[0m\u001b[0m\n\u001b[1;32m---> 93\u001b[1;33m         \u001b[0mself\u001b[0m\u001b[1;33m.\u001b[0m\u001b[0m_execute\u001b[0m\u001b[1;33m(\u001b[0m\u001b[0mCommand\u001b[0m\u001b[1;33m.\u001b[0m\u001b[0mCLICK_ELEMENT\u001b[0m\u001b[1;33m)\u001b[0m\u001b[1;33m\u001b[0m\u001b[1;33m\u001b[0m\u001b[0m\n\u001b[0m\u001b[0;32m     94\u001b[0m \u001b[1;33m\u001b[0m\u001b[0m\n\u001b[0;32m     95\u001b[0m     \u001b[1;32mdef\u001b[0m \u001b[0msubmit\u001b[0m\u001b[1;33m(\u001b[0m\u001b[0mself\u001b[0m\u001b[1;33m)\u001b[0m\u001b[1;33m:\u001b[0m\u001b[1;33m\u001b[0m\u001b[1;33m\u001b[0m\u001b[0m\n",
      "\u001b[1;32m~\\AppData\\Roaming\\Python\\Python39\\site-packages\\selenium\\webdriver\\remote\\webelement.py\u001b[0m in \u001b[0;36m_execute\u001b[1;34m(self, command, params)\u001b[0m\n\u001b[0;32m    401\u001b[0m             \u001b[0mparams\u001b[0m \u001b[1;33m=\u001b[0m \u001b[1;33m{\u001b[0m\u001b[1;33m}\u001b[0m\u001b[1;33m\u001b[0m\u001b[1;33m\u001b[0m\u001b[0m\n\u001b[0;32m    402\u001b[0m         \u001b[0mparams\u001b[0m\u001b[1;33m[\u001b[0m\u001b[1;34m\"id\"\u001b[0m\u001b[1;33m]\u001b[0m \u001b[1;33m=\u001b[0m \u001b[0mself\u001b[0m\u001b[1;33m.\u001b[0m\u001b[0m_id\u001b[0m\u001b[1;33m\u001b[0m\u001b[1;33m\u001b[0m\u001b[0m\n\u001b[1;32m--> 403\u001b[1;33m         \u001b[1;32mreturn\u001b[0m \u001b[0mself\u001b[0m\u001b[1;33m.\u001b[0m\u001b[0m_parent\u001b[0m\u001b[1;33m.\u001b[0m\u001b[0mexecute\u001b[0m\u001b[1;33m(\u001b[0m\u001b[0mcommand\u001b[0m\u001b[1;33m,\u001b[0m \u001b[0mparams\u001b[0m\u001b[1;33m)\u001b[0m\u001b[1;33m\u001b[0m\u001b[1;33m\u001b[0m\u001b[0m\n\u001b[0m\u001b[0;32m    404\u001b[0m \u001b[1;33m\u001b[0m\u001b[0m\n\u001b[0;32m    405\u001b[0m     \u001b[1;32mdef\u001b[0m \u001b[0mfind_element\u001b[0m\u001b[1;33m(\u001b[0m\u001b[0mself\u001b[0m\u001b[1;33m,\u001b[0m \u001b[0mby\u001b[0m\u001b[1;33m=\u001b[0m\u001b[0mBy\u001b[0m\u001b[1;33m.\u001b[0m\u001b[0mID\u001b[0m\u001b[1;33m,\u001b[0m \u001b[0mvalue\u001b[0m\u001b[1;33m=\u001b[0m\u001b[1;32mNone\u001b[0m\u001b[1;33m)\u001b[0m \u001b[1;33m->\u001b[0m \u001b[0mWebElement\u001b[0m\u001b[1;33m:\u001b[0m\u001b[1;33m\u001b[0m\u001b[1;33m\u001b[0m\u001b[0m\n",
      "\u001b[1;32m~\\AppData\\Roaming\\Python\\Python39\\site-packages\\selenium\\webdriver\\remote\\webdriver.py\u001b[0m in \u001b[0;36mexecute\u001b[1;34m(self, driver_command, params)\u001b[0m\n\u001b[0;32m    438\u001b[0m         \u001b[0mresponse\u001b[0m \u001b[1;33m=\u001b[0m \u001b[0mself\u001b[0m\u001b[1;33m.\u001b[0m\u001b[0mcommand_executor\u001b[0m\u001b[1;33m.\u001b[0m\u001b[0mexecute\u001b[0m\u001b[1;33m(\u001b[0m\u001b[0mdriver_command\u001b[0m\u001b[1;33m,\u001b[0m \u001b[0mparams\u001b[0m\u001b[1;33m)\u001b[0m\u001b[1;33m\u001b[0m\u001b[1;33m\u001b[0m\u001b[0m\n\u001b[0;32m    439\u001b[0m         \u001b[1;32mif\u001b[0m \u001b[0mresponse\u001b[0m\u001b[1;33m:\u001b[0m\u001b[1;33m\u001b[0m\u001b[1;33m\u001b[0m\u001b[0m\n\u001b[1;32m--> 440\u001b[1;33m             \u001b[0mself\u001b[0m\u001b[1;33m.\u001b[0m\u001b[0merror_handler\u001b[0m\u001b[1;33m.\u001b[0m\u001b[0mcheck_response\u001b[0m\u001b[1;33m(\u001b[0m\u001b[0mresponse\u001b[0m\u001b[1;33m)\u001b[0m\u001b[1;33m\u001b[0m\u001b[1;33m\u001b[0m\u001b[0m\n\u001b[0m\u001b[0;32m    441\u001b[0m             \u001b[0mresponse\u001b[0m\u001b[1;33m[\u001b[0m\u001b[1;34m\"value\"\u001b[0m\u001b[1;33m]\u001b[0m \u001b[1;33m=\u001b[0m \u001b[0mself\u001b[0m\u001b[1;33m.\u001b[0m\u001b[0m_unwrap_value\u001b[0m\u001b[1;33m(\u001b[0m\u001b[0mresponse\u001b[0m\u001b[1;33m.\u001b[0m\u001b[0mget\u001b[0m\u001b[1;33m(\u001b[0m\u001b[1;34m\"value\"\u001b[0m\u001b[1;33m,\u001b[0m \u001b[1;32mNone\u001b[0m\u001b[1;33m)\u001b[0m\u001b[1;33m)\u001b[0m\u001b[1;33m\u001b[0m\u001b[1;33m\u001b[0m\u001b[0m\n\u001b[0;32m    442\u001b[0m             \u001b[1;32mreturn\u001b[0m \u001b[0mresponse\u001b[0m\u001b[1;33m\u001b[0m\u001b[1;33m\u001b[0m\u001b[0m\n",
      "\u001b[1;32m~\\AppData\\Roaming\\Python\\Python39\\site-packages\\selenium\\webdriver\\remote\\errorhandler.py\u001b[0m in \u001b[0;36mcheck_response\u001b[1;34m(self, response)\u001b[0m\n\u001b[0;32m    243\u001b[0m                 \u001b[0malert_text\u001b[0m \u001b[1;33m=\u001b[0m \u001b[0mvalue\u001b[0m\u001b[1;33m[\u001b[0m\u001b[1;34m\"alert\"\u001b[0m\u001b[1;33m]\u001b[0m\u001b[1;33m.\u001b[0m\u001b[0mget\u001b[0m\u001b[1;33m(\u001b[0m\u001b[1;34m\"text\"\u001b[0m\u001b[1;33m)\u001b[0m\u001b[1;33m\u001b[0m\u001b[1;33m\u001b[0m\u001b[0m\n\u001b[0;32m    244\u001b[0m             \u001b[1;32mraise\u001b[0m \u001b[0mexception_class\u001b[0m\u001b[1;33m(\u001b[0m\u001b[0mmessage\u001b[0m\u001b[1;33m,\u001b[0m \u001b[0mscreen\u001b[0m\u001b[1;33m,\u001b[0m \u001b[0mstacktrace\u001b[0m\u001b[1;33m,\u001b[0m \u001b[0malert_text\u001b[0m\u001b[1;33m)\u001b[0m  \u001b[1;31m# type: ignore[call-arg]  # mypy is not smart enough here\u001b[0m\u001b[1;33m\u001b[0m\u001b[1;33m\u001b[0m\u001b[0m\n\u001b[1;32m--> 245\u001b[1;33m         \u001b[1;32mraise\u001b[0m \u001b[0mexception_class\u001b[0m\u001b[1;33m(\u001b[0m\u001b[0mmessage\u001b[0m\u001b[1;33m,\u001b[0m \u001b[0mscreen\u001b[0m\u001b[1;33m,\u001b[0m \u001b[0mstacktrace\u001b[0m\u001b[1;33m)\u001b[0m\u001b[1;33m\u001b[0m\u001b[1;33m\u001b[0m\u001b[0m\n\u001b[0m",
      "\u001b[1;31mElementNotInteractableException\u001b[0m: Message: element not interactable: Element is not currently visible and may not be manipulated\n  (Session info: chrome=111.0.5563.111)\nStacktrace:\nBacktrace:\n\t(No symbol) [0x004EDCE3]\n\t(No symbol) [0x004839D1]\n\t(No symbol) [0x00394DA8]\n\t(No symbol) [0x003976FB]\n\t(No symbol) [0x003975D0]\n\t(No symbol) [0x00397850]\n\t(No symbol) [0x003C3173]\n\t(No symbol) [0x003B90D4]\n\t(No symbol) [0x003DAECC]\n\t(No symbol) [0x003B8726]\n\t(No symbol) [0x003DB224]\n\t(No symbol) [0x003ED57C]\n\t(No symbol) [0x003DACC6]\n\t(No symbol) [0x003B6F68]\n\t(No symbol) [0x003B80CD]\n\tGetHandleVerifier [0x00763832+2506274]\n\tGetHandleVerifier [0x00799794+2727300]\n\tGetHandleVerifier [0x0079E36C+2746716]\n\tGetHandleVerifier [0x00596690+617600]\n\t(No symbol) [0x0048C712]\n\t(No symbol) [0x00491FF8]\n\t(No symbol) [0x004920DB]\n\t(No symbol) [0x0049C63B]\n\tBaseThreadInitThunk [0x76AC00F9+25]\n\tRtlGetAppContainerNamedObjectPath [0x77C67BBE+286]\n\tRtlGetAppContainerNamedObjectPath [0x77C67B8E+238]\n"
     ]
    }
   ],
   "source": [
    "it=0\n",
    "\n",
    "for x in range(len(combinaciones)):\n",
    "    for O in range(len(OD)): \n",
    "        for p in  range(len(periodos)):                 \n",
    "                    config_op = Select(driver.find_element(By.XPATH,\"//select[@name='dnn$ctr417$SiceTAC$CONFIGURACION']\"))\n",
    "                    config_op.select_by_visible_text(combinaciones.loc[x,\"config_v\"])\n",
    "                    carga_op = Select(driver.find_element(By.XPATH,\"//select[@name='dnn$ctr417$SiceTAC$TIPOCARGA']\"))\n",
    "                    carga_op.select_by_visible_text(combinaciones.loc[x,\"tipo_carga\"])\n",
    "                    tipo_op = Select(driver.find_element(By.XPATH,\"//select[@name='dnn$ctr417$SiceTAC$UNIDADTRANSPORTE']\"))\n",
    "                    tipo_op.select_by_visible_text(combinaciones.loc[x,\"tipo_unidad\"])\n",
    "                    time.sleep(1.5)\n",
    "                    org = Select(driver.find_element(By.XPATH,\"//select[@name='dnn$ctr417$SiceTAC$ORIGEN']\"))\n",
    "                    org.select_by_visible_text(OD.loc[O,\"origen\"])\n",
    "                    time.sleep(1.5)\n",
    "                    des = Select(driver.find_element(By.XPATH,\"//select[@name='dnn$ctr417$SiceTAC$DESTINO']\"))\n",
    "                    des.select_by_visible_text(OD.loc[O,\"destino\"])\n",
    "                    time.sleep(2)\n",
    "                    \n",
    "                    ### Seleccionar periodo\n",
    "                    periodo_box= driver.find_element(By.XPATH,\"//input[@name='dnn$ctr417$SiceTAC$periodoJ']\")\n",
    "                    periodo_box.click()\n",
    "                    \n",
    "                    WebDriverWait(driver, 10).until(\n",
    "                    EC.presence_of_element_located((By.XPATH, \"//select[@class='ui-datepicker-year']\"))\n",
    "                    )\n",
    "                    selectyear= Select(driver.find_element(By.XPATH,\"//select[@class='ui-datepicker-year']\"))\n",
    "                    selectyear.select_by_visible_text(str(periodos.loc[p,\"year\"]))\n",
    "                    time.sleep(1.5)\n",
    "                    selectmonth= Select(driver.find_element(By.XPATH,\"//div[@class='ui-datepicker-header ui-widget-header ui-helper-clearfix ui-corner-all']//select[@class='ui-datepicker-month']\"))\n",
    "                    selectmonth.select_by_visible_text(periodos.loc[p,\"month\"])\n",
    "\n",
    "                    periodo_close= driver.find_element(By.XPATH,\"//button[@class='ui-datepicker-close ui-state-default ui-priority-primary ui-corner-all']\")\n",
    "                    periodo_close.click()\n",
    "                    \n",
    "                    time.sleep(1.5)\n",
    "                    \n",
    "                    \n",
    "\n",
    "                    #### calculo \n",
    "\n",
    "                    calculo_text = driver.find_element(By.XPATH,\"//span[@id='dnn_ctr417_SiceTAC_Cat']\").text\n",
    "                    calculo_text=calculo_text.split()\n",
    "                    calculo_text= int(calculo_text[2])+int(calculo_text[4])\n",
    "                    calculo = driver.find_element(By.XPATH,\"//input[@name='dnn$ctr417$SiceTAC$Resultado']\")\n",
    "                    calculo.send_keys(calculo_text)\n",
    "                    \n",
    "                    WebDriverWait(driver, 10).until(\n",
    "                    EC.presence_of_element_located((By.XPATH,\"//a[@id='dnn_ctr417_SiceTAC_btCalcular']\")))\n",
    "\n",
    "                    calcular = driver.find_element(By.XPATH,\"//a[@id='dnn_ctr417_SiceTAC_btCalcular']\")\n",
    "                    calcular.click()\n",
    "                    time.sleep(2)\n",
    "\n",
    "                    alert = driver.switch_to.alert\n",
    "                    alert.accept()\n",
    "                    print(\"alert accepted\")\n",
    "                    \n",
    "\n",
    "                    for col in periodos.columns: \n",
    "                           cost_panel_resumen.loc[it, col]= periodos.loc[it,col]\n",
    "                    for col in combinaciones.columns: \n",
    "                           cost_panel_resumen.loc[it, col]= combinaciones.loc[it,col]\n",
    "                    for col in OD.columns: \n",
    "                           cost_panel_resumen.loc[it, col]= OD.loc[it,col]\n",
    "                     \n",
    "                    cost_movkm= driver.find_element(By.XPATH, \"//input[@name='dnn$ctr417$SiceTAC$COSTOMOVKM']\")\n",
    "                    cost_panel_resumen.loc[it, 'Tonelada x KM Movilzación' ]=  cost_movkm.get_attribute(\"value\")\n",
    "\n",
    "                    cost_movkm= driver.find_element(By.XPATH, \"//input[@name='dnn$ctr417$SiceTAC$COSTOTONMOV']\")\n",
    "                    cost_panel_resumen.loc[it, 'Costo Tonelada Movilización' ]=  cost_movkm.get_attribute(\"value\")\n",
    "\n",
    "                    cost_movkm= driver.find_element(By.XPATH, \"//input[@name='dnn$ctr417$SiceTAC$COSTOMOVCARGA']\")\n",
    "                    cost_panel_resumen.loc[it, 'Costo Movilización Carga' ]=  cost_movkm.get_attribute(\"value\")\n",
    "\n",
    "                    cost_movkm= driver.find_element(By.XPATH, \"//input[@name='dnn$ctr417$SiceTAC$COSTOHORAADL']\")\n",
    "                    cost_panel_resumen.loc[it, 'Costo Hora Adicional' ]=  cost_movkm.get_attribute(\"value\")\n",
    "\n",
    "                    cost_movkm= driver.find_element(By.XPATH, \"//input[@name='dnn$ctr417$SiceTAC$HORASESPERA']\")\n",
    "                    cost_panel_resumen.loc[it, 'Horas de Espera' ]=  cost_movkm.get_attribute(\"value\")\n",
    "\n",
    "                    cost_movkm= driver.find_element(By.XPATH, \"//input[@name='dnn$ctr417$SiceTAC$COSTOTIEMPOESPERA']\")\n",
    "                    cost_panel_resumen.loc[it, 'Costo Tiempos de Espera' ]=  cost_movkm.get_attribute(\"value\")\n",
    "\n",
    "                    cost_movkm= driver.find_element(By.XPATH, \"//input[@name='dnn$ctr417$SiceTAC$COSTOTONELADAKMTOTAL']\")\n",
    "                    cost_panel_resumen.loc[it, 'Tonelada x KM del Viaje' ]=  cost_movkm.get_attribute(\"value\")                    \n",
    "\n",
    "                    cost_movkm= driver.find_element(By.XPATH, \"//input[@name='dnn$ctr417$SiceTAC$COSTOTONELADATOTAL']\")\n",
    "                    cost_panel_resumen.loc[it, 'Costo Tonelada del Viaje' ]=  cost_movkm.get_attribute(\"value\")\n",
    "\n",
    "                    cost_movkm= driver.find_element(By.XPATH, \"//input[@name='dnn$ctr417$SiceTAC$COSTOTOTALVIAJE']\")\n",
    "                    cost_panel_resumen.loc[it, 'Costo Total del Viaje' ]=  cost_movkm.get_attribute(\"value\")\n",
    "\n",
    "                    cost_movkm= driver.find_element(By.XPATH, \"//input[@name='dnn$ctr417$SiceTAC$COSTOMOVILKM']\")\n",
    "                    cost_panel_resumen.loc[it, 'Costo x KM Movilización' ]=  cost_movkm.get_attribute(\"value\")\n",
    "                    \n",
    "                    cost_movkm= driver.find_element(By.XPATH, \"//input[@name='dnn$ctr417$SiceTAC$COSTOVIAJEKM']\")\n",
    "                    cost_panel_resumen.loc[it, 'Costo x KM del Viaje' ]=  cost_movkm.get_attribute(\"value\")\n",
    "                    \n",
    "                    it= it+1\n",
    "                    #driver.execute_script(\"window.history.go(-1)\")\n",
    "                    driver.get(enlaces)\n",
    "                    time.sleep(2)"
   ]
  },
  {
   "cell_type": "code",
   "execution_count": 20,
   "metadata": {},
   "outputs": [
    {
     "data": {
      "text/html": [
       "<div>\n",
       "<style scoped>\n",
       "    .dataframe tbody tr th:only-of-type {\n",
       "        vertical-align: middle;\n",
       "    }\n",
       "\n",
       "    .dataframe tbody tr th {\n",
       "        vertical-align: top;\n",
       "    }\n",
       "\n",
       "    .dataframe thead th {\n",
       "        text-align: right;\n",
       "    }\n",
       "</style>\n",
       "<table border=\"1\" class=\"dataframe\">\n",
       "  <thead>\n",
       "    <tr style=\"text-align: right;\">\n",
       "      <th></th>\n",
       "      <th>origen</th>\n",
       "      <th>destino</th>\n",
       "      <th>config_v</th>\n",
       "      <th>tipo_carga</th>\n",
       "      <th>tipo_unidad</th>\n",
       "      <th>month</th>\n",
       "      <th>year</th>\n",
       "      <th>Tonelada x KM Movilzación</th>\n",
       "      <th>Costo Tonelada Movilización</th>\n",
       "      <th>Costo Movilización Carga</th>\n",
       "      <th>Costo Hora Adicional</th>\n",
       "      <th>Horas de Espera</th>\n",
       "      <th>Costo Tiempos de Espera</th>\n",
       "      <th>Tonelada x KM del Viaje</th>\n",
       "      <th>Costo Tonelada del Viaje</th>\n",
       "      <th>Costo Total del Viaje</th>\n",
       "      <th>Costo x KM Movilización</th>\n",
       "      <th>Costo x KM del Viaje</th>\n",
       "    </tr>\n",
       "  </thead>\n",
       "  <tbody>\n",
       "    <tr>\n",
       "      <th>0</th>\n",
       "      <td>AGUACHICA-CESAR</td>\n",
       "      <td>BARRANCABERMEJA</td>\n",
       "      <td>Camión dos ejes - Sencillo</td>\n",
       "      <td>General</td>\n",
       "      <td>ESTACAS</td>\n",
       "      <td>Jul</td>\n",
       "      <td>2021</td>\n",
       "      <td>$283.17</td>\n",
       "      <td>$53,010.26</td>\n",
       "      <td>$477,092.25</td>\n",
       "      <td>$24,240</td>\n",
       "      <td>17.2</td>\n",
       "      <td>$416,933.35</td>\n",
       "      <td>$530.64</td>\n",
       "      <td>$99,336.18</td>\n",
       "      <td>$894,025.60</td>\n",
       "      <td>$2,548.57</td>\n",
       "      <td>$4,775.78</td>\n",
       "    </tr>\n",
       "  </tbody>\n",
       "</table>\n",
       "</div>"
      ],
      "text/plain": [
       "            origen          destino                    config_v tipo_carga  \\\n",
       "0  AGUACHICA-CESAR  BARRANCABERMEJA  Camión dos ejes - Sencillo    General   \n",
       "\n",
       "  tipo_unidad month  year Tonelada x KM Movilzación  \\\n",
       "0     ESTACAS   Jul  2021                   $283.17   \n",
       "\n",
       "  Costo Tonelada Movilización Costo Movilización Carga Costo Hora Adicional  \\\n",
       "0                  $53,010.26              $477,092.25              $24,240   \n",
       "\n",
       "  Horas de Espera Costo Tiempos de Espera Tonelada x KM del Viaje  \\\n",
       "0            17.2             $416,933.35                 $530.64   \n",
       "\n",
       "  Costo Tonelada del Viaje Costo Total del Viaje Costo x KM Movilización  \\\n",
       "0               $99,336.18           $894,025.60               $2,548.57   \n",
       "\n",
       "  Costo x KM del Viaje  \n",
       "0            $4,775.78  "
      ]
     },
     "execution_count": 20,
     "metadata": {},
     "output_type": "execute_result"
    }
   ],
   "source": [
    "cost_panel_resumen"
   ]
  },
  {
   "cell_type": "code",
   "execution_count": 66,
   "metadata": {},
   "outputs": [
    {
     "name": "stdout",
     "output_type": "stream",
     "text": [
      "2021\n",
      "2021\n",
      "2021\n",
      "2021\n",
      "2021\n",
      "2021\n",
      "2022\n",
      "2022\n",
      "2022\n",
      "2022\n",
      "2022\n",
      "2022\n",
      "2022\n",
      "2022\n",
      "2022\n",
      "2022\n",
      "2022\n",
      "2022\n",
      "2023\n",
      "2023\n",
      "2023\n"
     ]
    }
   ],
   "source": [
    "len(periodos)\n",
    "for p in   range(len(periodos)):\n",
    "    print(periodos.loc[p,\"year\"])"
   ]
  },
  {
   "cell_type": "code",
   "execution_count": 37,
   "metadata": {},
   "outputs": [
    {
     "data": {
      "text/plain": [
       "'$288.85'"
      ]
     },
     "execution_count": 37,
     "metadata": {},
     "output_type": "execute_result"
    }
   ],
   "source": [
    "cost_movkm= driver.find_element(By.XPATH, \"//input[@name='dnn$ctr417$SiceTAC$COSTOMOVKM']\")\n",
    "cost_movkm.get_attribute(\"value\")"
   ]
  },
  {
   "cell_type": "code",
   "execution_count": 41,
   "metadata": {},
   "outputs": [
    {
     "data": {
      "text/plain": [
       "[]"
      ]
     },
     "execution_count": 41,
     "metadata": {},
     "output_type": "execute_result"
    }
   ],
   "source": [
    "cost_movkm= driver.find_elements(By.XPATH, \"//div[@class='panel-body']/input\")\n",
    "cost_movkm= [d.get_attribute(\"value\") for d in cost_movkm ]\n",
    "cost_movkm"
   ]
  }
 ],
 "metadata": {
  "kernelspec": {
   "display_name": "base",
   "language": "python",
   "name": "python3"
  },
  "language_info": {
   "codemirror_mode": {
    "name": "ipython",
    "version": 3
   },
   "file_extension": ".py",
   "mimetype": "text/x-python",
   "name": "python",
   "nbconvert_exporter": "python",
   "pygments_lexer": "ipython3",
   "version": "3.9.13"
  },
  "orig_nbformat": 4
 },
 "nbformat": 4,
 "nbformat_minor": 2
}
